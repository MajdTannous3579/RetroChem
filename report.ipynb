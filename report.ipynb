{
 "cells": [
  {
   "cell_type": "markdown",
   "id": "41c62820",
   "metadata": {},
   "source": [
    "# RetroChem\n",
    "\n",
    "Welcome to the RetroChem documentation notebook—your interactive guide to our retrosynthesis toolkit! In this notebook, we’ll walk you through our design process, highlight key challenges we encountered, and showcase how RetroChem can streamline organic synthesis planning.\n",
    "\n",
    "Below is the table of contents to help you navigate the main sections:\n",
    "\n",
    "1. **Introduction**  \n",
    "2. **Materials & Methods**  \n",
    "3. **Results** \n",
    "4. **Discussion**  "
   ]
  },
  {
   "cell_type": "markdown",
   "id": "22d1d5bc",
   "metadata": {},
   "source": [
    "# Introduction\n",
    "\n",
    "Organic chemistry is the beating heart of any chemistry curriculum, an immense tapestry of functional groups, transformations, and reaction pathways. With thousands of named reactions and countless mechanistic subtleties to master, the sheer volume of information can overwhelm even the most dedicated student. What better way to tame this complexity than with the power of code?\n",
    "\n",
    "**RetroChem** is our answer: a web-based retrosynthesis assistant that translates familiar IUPAC names or drawn structures into SMILES, and then walks you backward through our hand-curated library of key organic transformations, showing each disconnection step along with the reagents and conditions required to carry it out. By combining cheminformatics tools (RDKit, SMARTS pattern matching) with interactive web widgets, RetroChem aims to kick-start the digital revolution in organic synthesis: helping you explore, learn, and visualize reaction pathways at the click of a button.  \n",
    "\n",
    "Welcome to the future of organic chemistry education. Let’s turn that mountain of reactions into a streamlined, code-driven discovery journey!  \n"
   ]
  },
  {
   "cell_type": "markdown",
   "id": "1a1abd82",
   "metadata": {},
   "source": [
    "#Materials and Methods \n",
    "\n",
    "# No code without imports! "
   ]
  },
  {
   "cell_type": "code",
   "execution_count": null,
   "id": "e278c0dd",
   "metadata": {
    "vscode": {
     "languageId": "plaintext"
    }
   },
   "outputs": [],
   "source": [
    "import streamlit as st\n",
    "import pandas as pd\n",
    "import os\n",
    "from streamlit_ketcher import st_ketcher  # type: ignore\n",
    "from rdkit import Chem\n",
    "from rdkit.Chem.Draw import MolToImage\n",
    "\n",
    "from retrochem.functions import name_to_smiles, canonicalize_smiles\n",
    "import retrochem.reaction_database as rd"
   ]
  },
  {
   "cell_type": "markdown",
   "id": "91c24da1",
   "metadata": {},
   "source": [
    "# Let's get started ! \n",
    "\n",
    "First thing first, the user has to select a database in which he might find the reaction that will lead to his input molecule. There are several databases available. Let's select for example the EPFL students database. "
   ]
  },
  {
   "cell_type": "code",
   "execution_count": null,
   "id": "d36e5066",
   "metadata": {
    "vscode": {
     "languageId": "plaintext"
    }
   },
   "outputs": [],
   "source": [
    "dbs = list(rd.REACTION_DATABASES.keys())\n",
    "if dbs:\n",
    "    cols = st.columns(len(dbs))\n",
    "    for i, d in enumerate(dbs):\n",
    "        with cols[i]:\n",
    "            st.button(d, on_click=choose_database, args=(d,))\n",
    "else:\n",
    "    st.info(\"No .db files found.\")\n"
   ]
  },
  {
   "cell_type": "markdown",
   "id": "3ae6a29f",
   "metadata": {},
   "source": [
    "# Inputing your output molecule \n",
    "\n",
    "First things first: we need to let the user provide a target molecule—either by typing its IUPAC/common name or by drawing its structure—and then convert that input into a SMILES string using our name_to_smiles or structure_to_smiles helper functions.\n",
    "For the name_to_smiles function, it reaches out to the **NCI’s Chemical Identifier Resolver (Cactus)** to look up any common or IUPAC name you type in and return the corresponding SMILES string. "
   ]
  },
  {
   "cell_type": "markdown",
   "id": "6f3465fb",
   "metadata": {},
   "source": [
    "# Usage Example\n",
    "\n",
    "Let' say the user inputs 1,1 dietoxyethane, whether as a name or a strcuture: these two functions should convert to smiles: "
   ]
  },
  {
   "cell_type": "code",
   "execution_count": null,
   "id": "0572687c",
   "metadata": {
    "vscode": {
     "languageId": "plaintext"
    }
   },
   "outputs": [],
   "source": [
    "if mode == \"Name\":\n",
    "    name = st.text_input(\"Molecule name\")\n",
    "    if name:\n",
    "        try:\n",
    "            smiles_input = name_to_smiles(name)\n",
    "            st.write(\"SMILES:\", smiles_input)\n",
    "            mol0 = Chem.MolFromSmiles(smiles_input)\n",
    "            if mol0:\n",
    "                st.image(MolToImage(mol0, size=(200, 200)))\n",
    "        except Exception as e:\n",
    "            st.error(f\"❌ Name→SMILES failed: {e}\")\n",
    "else:\n",
    "    drawn = st_ketcher(\"\", key=\"draw_input\")\n",
    "    if drawn:\n",
    "        smiles_input = drawn\n",
    "        st.write(\"SMILES:\", smiles_input)\n",
    "        mol0 = Chem.MolFromSmiles(smiles_input)\n",
    "        if mol0:\n",
    "            st.image(MolToImage(mol0, size=(200, 200)))"
   ]
  },
  {
   "cell_type": "markdown",
   "id": "0ca1eac1",
   "metadata": {},
   "source": [
    "# Getting the possible reactants \n",
    "\n",
    "Now things start to get serious !! \n",
    "\n",
    "We're going to walk you through how the retrosynthesis happens. "
   ]
  }
 ],
 "metadata": {
  "language_info": {
   "name": "python"
  }
 },
 "nbformat": 4,
 "nbformat_minor": 5
}
