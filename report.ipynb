{
 "cells": [
  {
   "cell_type": "markdown",
   "id": "41c62820",
   "metadata": {},
   "source": [
    "# RetroChem\n",
    "\n",
    "Welcome to the RetroChem documentation notebook, your interactive guide to our retrosynthesis toolkit! In this notebook, we’ll walk you through our design process, highlight key challenges we encountered, and showcase how RetroChem can streamline organic synthesis planning.\n",
    "\n",
    "Below is the table of contents to help you navigate the main sections:\n",
    "\n",
    "1. **Introduction**   \n",
    "2. **Databases**\n",
    "3. **Frontend** (app) \n",
    "4. **Backend** (with working code snippets!)\n",
    "5. **General Remarks, limits, ways of improvement** "
   ]
  },
  {
   "cell_type": "markdown",
   "id": "22d1d5bc",
   "metadata": {},
   "source": [
    "# Introduction\n",
    "\n",
    "Organic chemistry is the beating heart of any chemistry curriculum, an immense tapestry of functional groups, transformations, and reaction pathways. With thousands of named reactions and countless mechanistic subtleties to master, the sheer volume of information can overwhelm even the most dedicated student. What better way to tame this complexity than with the power of code?\n",
    "\n",
    "**RetroChem** is our answer: a web-based retrosynthesis assistant that translates familiar IUPAC names or drawn structures into SMILES, and then walks you backward through our hand-curated library of key organic transformations, showing the reagents and conditions required to carry it out. By combining cheminformatics tools (RDKit, SMARTS pattern matching) with interactive web widgets, RetroChem aims to helping you explore, learn, and visualize reaction pathways at the click of a button.  \n",
    "\n",
    "Welcome to the future of organic chemistry education. Let’s turn that mountain of reactions into a streamlined, code-driven discovery journey!  \n"
   ]
  },
  {
   "cell_type": "markdown",
   "id": "1a1abd82",
   "metadata": {},
   "source": [
    "\n",
    "### No code without imports! \n",
    "Theses are all the main package imports used in the different files:"
   ]
  },
  {
   "cell_type": "code",
   "execution_count": null,
   "id": "e278c0dd",
   "metadata": {},
   "outputs": [],
   "source": [
    "from typing import *\n",
    "import json \n",
    "import streamlit as st\n",
    "import pandas as pd\n",
    "import os\n",
    "from streamlit_ketcher import st_ketcher  \n",
    "from rdkit import Chem\n",
    "from rdkit.Chem.Draw import MolToImage\n",
    "from rdkit.Chem import rdChemReactions as Reac\n",
    "from urllib.request import urlopen\n",
    "from urllib.parse import quote"
   ]
  },
  {
   "cell_type": "markdown",
   "id": "09c1c660",
   "metadata": {},
   "source": [
    "### Let's get started ! \n",
    "\n",
    "# Databases\n",
    "RetroChem supports multiple reaction databases, each tailored to different levels and domains of organic chemistry. First, we built a handmade database that covers the core reactions taught in the first and second years of the EPFL chemistry curriculum. This includes standard transformations and their associated reaction conditions, helping students review and apply known retrosynthetic logic.\n",
    "\n",
    "In addition, we integrated a second database sourced from an open-source repository by Datamol (more info on https://github.com/datamol-io/datamol), which focuses on more advanced medicinal chemistry reactions, particularly heterocycle constructions. **This database was parsed using the handmade code available in the file parsing_database.py.**\n",
    "\n",
    "Finally, the platform includes a custom database builder that allows users to create or extend their own databases by defining reaction SMARTS and adding experimental conditions. This ensures flexibility and supports both educational and exploratory use cases. This will be discussed more in detail later in the report."
   ]
  },
  {
   "cell_type": "markdown",
   "id": "d74753e8",
   "metadata": {},
   "source": [
    "# Frontend / app\n",
    "**Note:** The code snippets in this section are illustrative and not meant to be executed directly within this notebook. They are included to highlight key parts of the frontend code. To run the full application, navigate to the src/retrochem directory in your terminal and execute: \n",
    "\n",
    "streamlit run app.py "
   ]
  },
  {
   "cell_type": "markdown",
   "id": "6ece839b",
   "metadata": {},
   "source": [
    "## Managing Session States\n",
    "\n",
    "RetroChem relies on Streamlit’s `st.session_state` to preserve context across interactions. We store variables like:\n",
    "- `selected_smiles`: the current target molecule\n",
    "- `reactant_list`: fragments to be explored\n",
    "- `history`: all previously selected targets\n",
    "- `database`: the chosen reaction set\n",
    "- and much more\n",
    "\n",
    "This ensures the user can:\n",
    "- Navigate back in the history using “🔙 Back”\n",
    "- Restart using “🧹 Start Over”\n",
    "- Dynamically explore branches without page reloads\n"
   ]
  },
  {
   "cell_type": "markdown",
   "id": "d76323e8",
   "metadata": {},
   "source": [
    "## Callback Overview\n",
    "\n",
    "Throughout the app, several callback functions are defined to handle user actions like navigation, retrosynthesis, and database management. These functions manipulate Streamlit’s session state and interface with backend logic (which will be explained in detail in the Backend section).\n",
    "\n",
    "Below is a summary of the key callback functions:\n",
    "\n",
    "| Callback Function           | Triggered By (UI)                      | Purpose                                                                                   |\n",
    "|-----------------------------|----------------------------------------|-------------------------------------------------------------------------------------------|\n",
    "| `go_home()`                 | “🏠 Return to Home” button              | Resets most of the session state and navigates to the Home screen.                       |\n",
    "| `go_main()`                 | “🔬 Start Retrosynthesis” button       | Navigates from Home to the main retrosynthesis interface.                                |\n",
    "| `clear_history()`           | “🧹 Start Over” button                 | Clears retrosynthesis history and resets the molecule state.                             |\n",
    "| `do_retrosynthesis(smi, db)`| “🔄 Retrosynthesize” button            | Launches the retrosynthesis logic (uses backend’s `list_reactants`; see Backend section).|\n",
    "| `select_option(idx)`        | “Option n” button (for reactant sets)  | Selects a particular disconnection and stores its components.                            |\n",
    "| `select_fragment(idx)`      | “Reactant n” button (in fragment view) | Applies retrosynthesis recursively to a selected fragment.                               |\n",
    "| `handle_db_select()`        | Dropdown menu for databases            | Switches the active database or enters the database builder.                             |\n",
    "| `reset_builder()`           | “Start Over” in Builder mode           | Clears all reactant/product/conditions fields for fresh input.                           |\n",
    "| `remove_reactant(idx)`      | “❌” buttons next to reactants         | Removes a single reactant from the reaction builder list.                                |\n",
    "| `refresh_databases()`       | App start, `go_home`, or `clear_history()` | Loads all `.db` files and registers them for use (uses backend’s `load_database` and `register_database`). |\n",
    "| `init_state()`       | At start-up | Initializes default values in Streamlit's session state to ensure a stable initial application state.|\n",
    "\n",
    "Each callback updates `st.session_state` to drive app behavior reactively, and most of them interface directly with backend utilities for SMILES handling, reaction parsing, or database updates, which will be discussed in the next section."
   ]
  },
  {
   "cell_type": "markdown",
   "id": "31dbadf7",
   "metadata": {},
   "source": [
    "## Selecting a reaction database\n",
    "The Streamlit front-end shows each .db file as a dropdown option within a selectbox in the sidebar menu.  "
   ]
  },
  {
   "cell_type": "code",
   "execution_count": null,
   "id": "a7e31af8",
   "metadata": {},
   "outputs": [],
   "source": [
    "dbs = list(rd.REACTION_DATABASES.keys())\n",
    "placeholder   = 'Select Database'\n",
    "add_label     = '➕ Add or edit your own database'\n",
    "opts    = [placeholder] + dbs + [add_label]\n",
    "st.selectbox('Choose Database',\n",
    "            opts,\n",
    "            index=0,\n",
    "            key='main_db_select',\n",
    "            on_change= handle_db_select)\n",
    "st.markdown(f\"**Current DB:** {st.session_state.database or '_(none)_'}\")"
   ]
  },
  {
   "cell_type": "markdown",
   "id": "4ad87175",
   "metadata": {},
   "source": [
    "| Line(s)                                             | What happens in the UI                                                                                                                         | Why it matters                                                                         |\n",
    "| --------------------------------------------------- | ---------------------------------------------------------------------------------------------------------------------------------------------- | -------------------------------------------------------------------------------------- |\n",
    "| `dbs = list(rd.REACTION_DATABASES.keys())`          | Collects the names of every reaction-database that was successfully loaded at startup. Calls REACTION_DATABASES from the backend                                                        | Defines the menu of options a user can choose from.                                    |\n",
    "| `st.selectbox('Choose Database', opts, index=0, key='main_db_select', on_change=handle_db_select)` | Renders a dropdown menu with the available database names; selecting one triggers `handle_db_select()` which updates `st.session_state.database`. | Lets the user decide which SMARTS library will power all retrosynthesis queries.       |"
   ]
  },
  {
   "cell_type": "markdown",
   "id": "3ae6a29f",
   "metadata": {},
   "source": [
    "# Inputing your molecule \n",
    "\n",
    " We need to let the user provide a target molecule, either by typing its IUPAC/common name or by drawing its structure, and then convert that input into a SMILES string using our name_to_smiles helper function and streamlit ketcher.\n",
    "For the name_to_smiles function, it reaches out to the **NCI’s Chemical Identifier Resolver (Cactus)** to look up any common or IUPAC name you type in and return the corresponding SMILES string. \n"
   ]
  },
  {
   "cell_type": "code",
   "execution_count": null,
   "id": "d09db15e",
   "metadata": {},
   "outputs": [],
   "source": [
    "if mode == \"Name\":\n",
    "    name = st.text_input(\"Molecule name\")\n",
    "    if name:\n",
    "        try:\n",
    "            smiles_input = name_to_smiles(name)\n",
    "            st.write(\"SMILES:\", smiles_input)\n",
    "            mol0 = Chem.MolFromSmiles(smiles_input)\n",
    "            if mol0:\n",
    "                st.image(MolToImage(mol0, size=(200, 200)))\n",
    "        except Exception as e:\n",
    "            st.error(f\"❌ Name→SMILES failed: {e}\")\n",
    "else:\n",
    "    drawn = st_ketcher(\"\", key=\"draw_input\")\n",
    "    if drawn:\n",
    "        smiles_input = drawn\n",
    "        st.write(\"SMILES:\", smiles_input)\n",
    "        mol0 = Chem.MolFromSmiles(smiles_input)\n",
    "        if mol0:\n",
    "            st.image(MolToImage(mol0, size=(200, 200)))"
   ]
  },
  {
   "cell_type": "markdown",
   "id": "a4554f2c",
   "metadata": {},
   "source": [
    "\n",
    "| Branch / line(s)                                                    | What the user sees or triggers                                                                      | Why it matters                                                           |\n",
    "| ------------------------------------------------------------------- | --------------------------------------------------------------------------------------------------- | ------------------------------------------------------------------------ |\n",
    "| `if mode == \"Name\":`                                                | Enables Name mode, revealing a text box.                                                        | Lets the user type an IUPAC or common name instead of drawing.           |\n",
    "| `name = st.text_input(\"Molecule name\")`                             | Interactive text field labelled *“Molecule name”*.                                                  | Captures free-text input.                                                |\n",
    "| `smiles_input = name_to_smiles(name)`                               | **Backend call** to `functions.name_to_smiles`, which queries the NCI Chemical Identifier Resolver. | Converts a human-readable name into a machine-readable SMILES string.    |\n",
    "| `st.write(\"SMILES:\", smiles_input)`                                 | Echoes the resolved SMILES below the text box.                                                      | Immediate feedback that the lookup succeeded.                            |\n",
    "| `MolToImage(mol0)` + `st.image(...)`                                | Inline 200 × 200 PNG of the molecule.                                                               | Visual validation of the structure.                                      |\n",
    "| `except … st.error(\"❌ Name→SMILES failed …\")`                       | Red error banner if the API call or RDKit parsing fails.                                            | Graceful handling of typos or network issues.                            |\n",
    "| `else:` *(Draw mode)*                                               | Switches the UI to a Ketcher sketch pad.                                                        | Supports freehand drawing for molecules without convenient names.        |\n",
    "| `drawn = st_ketcher(\"\", key=\"draw_input\")`                          | Launches the Web-based drawing widget.                                                              | Lets the user sketch directly in the browser; the widget returns SMILES. |\n",
    "| `smiles_input = drawn` → `st.write(\"SMILES:\", …)` → `st.image(...)` | Same display logic as Name mode: print SMILES and show an RDKit image.                              | Keeps the feedback loop identical regardless of input method.            |\n"
   ]
  },
  {
   "cell_type": "markdown",
   "id": "0ca1eac1",
   "metadata": {},
   "source": [
    "## Getting the Possible Reactants\n",
    "\n",
    "Now things start to get serious! We're going to walk you through how the retrosynthesis engine kicks in and how the user can navigate possible disconnections.\n",
    "\n",
    "### 🔄 Retrosynthesis Flow (Initiation)\n",
    "\n",
    "The retrosynthesis process begins when the user presses the \"Retrosynthesize\" button after defining a molecule and selecting a database.\n"
   ]
  },
  {
   "cell_type": "code",
   "execution_count": null,
   "id": "400034bc",
   "metadata": {},
   "outputs": [],
   "source": [
    "if smiles:\n",
    "    st.button('🔄 Retrosynthesize',\n",
    "              key='main_retrosynthesize',\n",
    "              on_click=do_retrosynthesis,\n",
    "              args=(smiles, st.session_state.database))"
   ]
  },
  {
   "cell_type": "markdown",
   "id": "8b45fd6b",
   "metadata": {},
   "source": [
    "\n",
    "This triggers the callback `do_retrosynthesis(smiles, db)` which does the following:\n",
    "\n",
    "1. Pushes the current SMILES to the history (for backtracking):\n",
    "\n",
    "```python\n",
    "st.session_state.history.append(st.session_state.selected_smiles)\n",
    "```\n",
    "\n",
    "2. Updates the selected molecule:\n",
    "\n",
    "```python\n",
    "st.session_state.selected_smiles = smiles\n",
    "```\n",
    "\n",
    "3. Clears any previously selected reactants:\n",
    "\n",
    "```python\n",
    "st.session_state.reactant_list = None\n",
    "```\n",
    "\n",
    "4. Computes possible retrosynthetic disconnections using:\n",
    "\n",
    "```python\n",
    "st.session_state.combos = rd.list_reactants(canonicalize_smiles(smiles), db)\n",
    "```\n",
    "\n",
    "The `canonicalize_smiles()` ensures format consistency. The function `rd.list_reactants()` is a backend function that applies all registered SMARTS rules from the selected database (more in the backend section).\n",
    "\n",
    "\n",
    "### 🧩 Choosing Between Options\n",
    "\n",
    "Once disconnections (combos) are found, the user is shown a set of options with molecules and reaction conditions:\n"
   ]
  },
  {
   "cell_type": "code",
   "execution_count": null,
   "id": "a81097f4",
   "metadata": {},
   "outputs": [],
   "source": [
    "\n",
    "if st.session_state.selected_smiles and not st.session_state.reactant_list:\n",
    "    st.subheader('🧩 Options')\n",
    "    combos = st.session_state.combos or []\n",
    "    if not combos:\n",
    "        st.info('Your product is too simple, or not in the chosen database.')\n",
    "    else:\n",
    "        cols = st.columns(len(combos))\n",
    "        for i, (s, cond) in enumerate(combos):\n",
    "            with cols[i]:\n",
    "                st.image(MolToImage(Chem.MolFromSmiles(s), (150,150)))\n",
    "                # Display conditions as a mini-table\n",
    "                if cond:\n",
    "                    df = pd.DataFrame.from_dict(cond, orient='index', columns=['Value'])\n",
    "                    df.index.name = 'Parameter'\n",
    "                    st.table(df)\n",
    "                st.button(\n",
    "                    f'Option {i+1}',\n",
    "                    key=f'opt{i}',\n",
    "                    on_click = select_option,\n",
    "                    args=(i,),\n",
    "                )"
   ]
  },
  {
   "cell_type": "markdown",
   "id": "f9d833dd",
   "metadata": {},
   "source": [
    "\n",
    "Each \"Option\" button lets the user pick one disconnection.\n",
    "\n",
    "\n",
    "### 🔹 Fragment Drilldown: Retrosynthesizing the Reactants\n",
    "\n",
    "After picking an option, the reactants are shown individually, each with its own \"Reactant n\" button. This allows recursive retrosynthesis:\n"
   ]
  },
  {
   "cell_type": "code",
   "execution_count": null,
   "id": "575b1418",
   "metadata": {},
   "outputs": [],
   "source": [
    "elif st.session_state.reactant_list:\n",
    "    st.subheader('🔹 Next Fragment')\n",
    "    parts = st.session_state.reactant_list\n",
    "    cols = st.columns(len(parts))\n",
    "    for i, p in enumerate(parts):\n",
    "        with cols[i]:\n",
    "            st.image(MolToImage(Chem.MolFromSmiles(p), (150,150)))\n",
    "            st.button(f'Reactant {i+1}',\n",
    "                      key=f'react{i}',\n",
    "                      on_click = select_fragment,\n",
    "                      args=(i,))"
   ]
  },
  {
   "cell_type": "markdown",
   "id": "f3370695",
   "metadata": {},
   "source": [
    "\n",
    "Clicking a fragment does:\n",
    "\n",
    "1. Push the current target to history.\n",
    "2. Set that fragment as the new `selected_smiles`.\n",
    "3. Query the database again to list reactants for the selected fragment.\n",
    "\n",
    "\n",
    "### ♻️ Recursive Exploration\n",
    "\n",
    "This recursive loop — target → disconnection → pick fragment → disconnection again — lets users drill deep into possible retrosynthetic trees. It’s particularly powerful for visualizing multi-step routes or simplifying complex targets iteratively.\n",
    "\n",
    "Each step is reactive and memory-light, with RDKit handling chemistry and Streamlit’s state model tracking choices, which makes the experience snappy even in large databases.\n"
   ]
  },
  {
   "cell_type": "markdown",
   "id": "6ec50559",
   "metadata": {},
   "source": [
    "# BackEnd: What's Happening Behind the Scenes? \n",
    "\n",
    "Behind that single ‘🔄 Retrosynthesize’ click lies a finely-tuned engine of SMARTS parsing, atom-mapped reaction reversal, and on-the-fly database indexing an   that turns milliseconds of UI feedback into thousands of coordinated chemistry computations. \n",
    "\n",
    "All our functions are linked to one another so hang in there to understand our code! \n",
    "\n",
    "Note: The code snippets in this section of the report work, enjoy discovering how our code works! don't forget to run the imports of the introduction.\n",
    "## How reverse_reaction_generator Works \n",
    "\n",
    "Reverse_reaction_generator is the small but powerful helper that lets RetroChem turn a inverse reaction rule (written in SMARTS) into a callable reverse reaction used during retrosynthesis. This is the main function of the backend, and the star of the show.\n",
    "Below is a step-by-step description of what happens inside and why it matters.\n"
   ]
  },
  {
   "cell_type": "code",
   "execution_count": null,
   "id": "ead701ce",
   "metadata": {},
   "outputs": [],
   "source": [
    "SmartsConditionsPair = Tuple[str, dict]\n",
    "SmilesConditionsPair= Tuple[str,dict]\n",
    "\n",
    "def reverse_reaction_generator(reaction_smart: SmartsConditionsPair)->Callable[[str], SmilesConditionsPair | None]:\n",
    "    rxn = Reac.ReactionFromSmarts(reaction_smart[0])\n",
    "    cond = reaction_smart[1]\n",
    "    def reverser_to_smiles(smiles: str) -> str | None:\n",
    "        mol = Chem.MolFromSmiles(smiles)\n",
    "        if mol is None:\n",
    "            raise ValueError(\"Invalid SMILES\")\n",
    "        try:\n",
    "            prods = rxn.RunReactants((mol,))\n",
    "        except Exception:\n",
    "            return None\n",
    "        if not prods:\n",
    "            return None\n",
    "        first = prods[0]\n",
    "        first_smiles = [Chem.MolToSmiles(m, canonical=True) for m in first]\n",
    "        combo = \".\".join(first_smiles)\n",
    "        return (combo, cond)\n",
    "    return reverser_to_smiles"
   ]
  },
  {
   "cell_type": "markdown",
   "id": "301fc2a3",
   "metadata": {},
   "source": [
    "\n",
    "1. Compiling the smarts \n",
    "\n",
    "The SMARTS string with a form \"product>>reactant1.reactant2.reactant3\" is converted into an RDKit reaction object (rxn) using ReactionFromSmarts. This step parses atom mapping and bond changes."
   ]
  },
  {
   "cell_type": "markdown",
   "id": "5521e8ad",
   "metadata": {},
   "source": [
    "2. Create the closure (reverser_to_smiles)\n",
    "\n",
    "An inner function reverser_to_smiles is returned. It captures the compiled reaction object and its conditions, so it can be reused efficiently."
   ]
  },
  {
   "cell_type": "markdown",
   "id": "d5edb7fe",
   "metadata": {},
   "source": [
    "3. Run the reaction backwards \n",
    "\n",
    "RDKit treats the product as an input and produces possible reactant tuples basing itself on a reaction object, created earlier through a reaction SMARTS.\n",
    "Only the first hit (prods[0]) is taken for speed; exhaustive enumeration could be added later."
   ]
  },
  {
   "cell_type": "markdown",
   "id": "aed50424",
   "metadata": {},
   "source": [
    "4. Return a clean, canonicalised reactant string with a form \"reactant1.reactant2.reactant3\", ready to be displayed easily in the app.\n"
   ]
  },
  {
   "cell_type": "markdown",
   "id": "f8205cb4",
   "metadata": {},
   "source": [
    "### 🚀 Key Optimisation Tricks — `reverse_reaction_generator`\n",
    "\n",
    "\n",
    "| Optimisation | How it’s implemented | Pay-off |\n",
    "|--------------|----------------------|---------|\n",
    "| **1 · SMARTS pre-compilation** | ```rxn = Reac.ReactionFromSmarts(smart)``` is executed **once**, when the database is loaded. | Parsing and atom-mapping a SMARTS string is the slowest RDKit step; doing it just once per rule removes that cost from every user query. |\n",
    "| **2 · Closure capture** | The nested `reverser_to_smiles` function closes over the compiled `rxn` object **and** its `conditions` dict. | No global look-ups, no re-parsing, fully self-contained. A plain Python call does all the work during search. |\n",
    "| **3 · Fail-fast error handling** | *Invalid SMILES* → `ValueError`; *no products* → returns `None` immediately. | The outer loop (`list_reactants`) never allocates memory for failed matches.|\n",
    "\n",
    "\n",
    "#### Net effect on the user experience\n",
    "* **Sub-second responses** for each selected smile, even with a lot of SMARTS templates.  \n",
    "* **Smooth recursion** — drilling into reactants remains instant, inviting exploration.  \n"
   ]
  },
  {
   "cell_type": "markdown",
   "id": "e903c4f6",
   "metadata": {},
   "source": [
    "### ⚙️  Supporting Utilities — `register_database` & `list_reactants`\n",
    "📥 load_database(path: str)\n"
   ]
  },
  {
   "cell_type": "code",
   "execution_count": null,
   "id": "2e062b44",
   "metadata": {},
   "outputs": [],
   "source": [
    "def load_database(path: str):\n",
    "    try:\n",
    "        with open(path, \"r\") as file:\n",
    "            return json.load(file)\n",
    "    except:\n",
    "        return None"
   ]
  },
  {
   "cell_type": "markdown",
   "id": "4e1bf5cf",
   "metadata": {},
   "source": [
    "Loads a .db JSON file and returns the list of SMARTS-condition pairs. If the file doesn’t exist or is invalid, it returns None."
   ]
  },
  {
   "cell_type": "markdown",
   "id": "b81fa26c",
   "metadata": {},
   "source": [
    "📌 register_database(values, name)"
   ]
  },
  {
   "cell_type": "code",
   "execution_count": null,
   "id": "f0a929c8",
   "metadata": {},
   "outputs": [],
   "source": [
    "REACTION_DATABASES: dict[str, list[SmartsConditionsPair]] = {}\n",
    "REACTION_REVERSERS: dict[str, List[Callable[[str], SmartsConditionsPair | None]]] = {}\n",
    "\n",
    "def register_database(values, database):\n",
    "    REACTION_DATABASES[database] = values\n",
    "    REACTION_REVERSERS[database] = [reverse_reaction_generator(i) for i in values]\n"
   ]
  },
  {
   "cell_type": "markdown",
   "id": "09dab3ea",
   "metadata": {},
   "source": [
    "1️⃣ Caches the raw SMARTS list of a database in `REACTION_DATABASES`\n",
    "\n",
    "2️⃣ Immediately converts every rule of a certain database into a compiled **reverser** and stores that list in `REACTION_REVERSERS`"
   ]
  },
  {
   "cell_type": "markdown",
   "id": "902b6c7a",
   "metadata": {},
   "source": [
    "🧼 clear_registered_databases()"
   ]
  },
  {
   "cell_type": "code",
   "execution_count": null,
   "id": "1a3d4a3a",
   "metadata": {},
   "outputs": [],
   "source": [
    "def clear_registered_databases():\n",
    "    REACTION_DATABASES.clear()\n",
    "    REACTION_REVERSERS.clear()"
   ]
  },
  {
   "cell_type": "markdown",
   "id": "cf47ed0a",
   "metadata": {},
   "source": [
    "Clears all cached databases (useful for refreshing)."
   ]
  },
  {
   "cell_type": "markdown",
   "id": "f5a39c71",
   "metadata": {},
   "source": [
    "🔍 list_reactants(smiles, db):"
   ]
  },
  {
   "cell_type": "code",
   "execution_count": null,
   "id": "eec93e15",
   "metadata": {},
   "outputs": [],
   "source": [
    "def list_reactants(smiles: str, database: str):\n",
    "    get = REACTION_REVERSERS.get(database)\n",
    "    if get is None:\n",
    "        return None\n",
    "    ret = []\n",
    "    for fn in get:\n",
    "        val = fn(smiles)\n",
    "        if val is not None:\n",
    "            ret.append(val)\n",
    "    return ret"
   ]
  },
  {
   "cell_type": "markdown",
   "id": "2bb6d770",
   "metadata": {},
   "source": [
    "Loops over each callable in the converted database (reaction_reversers) and applies it to the SMILES input. Returns a list of successful matches (Reactant_combo - conditions pair).\n",
    "This is the final function that ties all the previous ones together to allow the output of wanted reactants."
   ]
  },
  {
   "cell_type": "markdown",
   "id": "3a89f09e",
   "metadata": {},
   "source": [
    "### 📝 `add_new_smart` - extend or edit a reaction database\n",
    "\n"
   ]
  },
  {
   "cell_type": "code",
   "execution_count": null,
   "id": "1f74a837",
   "metadata": {},
   "outputs": [],
   "source": [
    "def add_new_smart(database_name: str, product: str, reactants: list[str], conditions: dict[str, str] = dict())->None:\n",
    "    file_path = f'{database_name}.db'\n",
    "    previous = load_database(file_path) or []\n",
    "    product_smarts = Chem.MolToSmarts(Chem.MolFromSmiles(product)).replace('\\\\', '-').replace('/', '-')\n",
    "    reactants_smarts = '.'.join([Chem.MolToSmarts(Chem.MolFromSmiles(i)).replace('\\\\', '-').replace('/', '-') for i in reactants])\n",
    "    previous.append((f'{product_smarts}>>{reactants_smarts}', conditions))\n",
    "    register_database(previous, database_name)\n",
    "    with open(file_path, 'w') as file:\n",
    "        file.write('[\\n')\n",
    "        if len(previous) != 0:\n",
    "            file.write(f'  [\\n    \"{previous[0][0]}\",\\n    {json.dumps(previous[0][1])}\\n  ]')\n",
    "        for i in range(1, len(previous)):\n",
    "            file.write(f',  [\\n    \"{previous[i][0]}\",\\n    {json.dumps(previous[i][1])}\\n  ]')\n",
    "        file.write('\\n]\\n')"
   ]
  },
  {
   "cell_type": "markdown",
   "id": "1748008d",
   "metadata": {},
   "source": [
    "\n",
    "\n",
    " **Arguments**\n",
    "   | Parameter | Type | Purpose |\n",
    "   |-----------|------|---------|\n",
    "   | `database_name` | `str` | File name to modify or create |\n",
    "   | `product` | `str` | SMILES string for the product of the reaction. |\n",
    "   | `reactants` | `list[str]` | List of SMILES strings for all reactants in the reaction. |\n",
    "   | `conditions` | `dict[str, str]` | Dictionaries containing the different conditions specific to the reaction. |\n",
    "\n",
    "\n",
    "**Goal**\n",
    "\n",
    "This function makes sure to give the user the choice of either adding a reaction rule into an already existing database or create a new one. This comes from the conditional variable \"previous\".\n"
   ]
  },
  {
   "cell_type": "markdown",
   "id": "7d8f56b5",
   "metadata": {},
   "source": [
    "## 🧪 Test Our Backend Functions Yourself!\n",
    "The RetroChem backend was built with testability in mind. Below are simple examples you can run right in this notebook (after running the previous function snippets) to see each core function in action.\n",
    "\n",
    "### 🔁 Try a Reverse Reaction\n",
    "This shows how to use our reverse_reaction_generator to turn a product into possible reactants using a SMARTS rule.\n"
   ]
  },
  {
   "cell_type": "code",
   "execution_count": null,
   "id": "2ec919d9",
   "metadata": {},
   "outputs": [],
   "source": [
    "#simulating a database:\n",
    "reaction_smarts = (\"[C:1][C:2](=O)[C:3]>>[C:1][C:2][C:3].NN\",\n",
    "                    {\"temperature\": \"197 °C\", \"solvent\": \"KOH\"})\n",
    "#\"converts\" database into a callable\n",
    "reverser = reverse_reaction_generator(reaction_smarts)\n",
    "#calls callable for an inputed smile\n",
    "ReactantsConditions = reverser(\"CCCCCC(=O)CC\")\n",
    "#output Reactants and conditions\n",
    "print(ReactantsConditions)\n"
   ]
  },
  {
   "cell_type": "markdown",
   "id": "98e50b89",
   "metadata": {},
   "source": [
    "The expected output is:\n",
    "('CCCCCCCC', {'temperature': '197 °C', 'solvent': 'KOH'})\n",
    "\n",
    "This confirms that the input product which is a ketone, can be transformed into an alkane and nitrogen gas, which is the wolff-Kishner reaction, described as a SMARTS rule in our \"database\""
   ]
  },
  {
   "cell_type": "code",
   "execution_count": null,
   "id": "ed7761dd",
   "metadata": {},
   "outputs": [],
   "source": [
    "#display it\n",
    "print(\"your product is:\")\n",
    "MolToImage(Chem.MolFromSmiles(\"CCCCCC(=O)CC\"))"
   ]
  },
  {
   "cell_type": "code",
   "execution_count": null,
   "id": "e3812cd4",
   "metadata": {},
   "outputs": [],
   "source": [
    "Mol_reactants = Chem.MolFromSmiles(ReactantsConditions[0])\n",
    "print(\"your corresponding reactants\")\n",
    "MolToImage(Mol_reactants)"
   ]
  },
  {
   "cell_type": "markdown",
   "id": "900b9300",
   "metadata": {},
   "source": [
    "**Reminder**: The function list_reactants works a bit like the line: reverser(\"smiles\"), the only difference is that it itirates this call over a whole database of callables (REACTION_REVERSERS), and returns only reactants and conditions who matched!"
   ]
  },
  {
   "cell_type": "markdown",
   "id": "e8b29e0e",
   "metadata": {},
   "source": [
    "### 📥 Now for the Database functions"
   ]
  },
  {
   "cell_type": "code",
   "execution_count": null,
   "id": "b2972758",
   "metadata": {},
   "outputs": [],
   "source": [
    "#Simulating a database\n",
    "sample_db_content = [\n",
    "    (\"CC>>C.C\", {\"temperature\": \"25\"}),\n",
    "    (\"CCC>>C.C.C\", {\"solvent\": \"THF\"})\n",
    "]\n",
    "\n",
    "# Write this to a temporary file\n",
    "sample_db_path = \"test_demo.db\"\n",
    "with open(sample_db_path, \"w\") as f:\n",
    "    json.dump(sample_db_content, f)"
   ]
  },
  {
   "cell_type": "markdown",
   "id": "83ad059c",
   "metadata": {},
   "source": [
    "You should see a file test_demo.db appear in the src\\retrochem folder"
   ]
  },
  {
   "cell_type": "code",
   "execution_count": null,
   "id": "3ba1f255",
   "metadata": {},
   "outputs": [],
   "source": [
    "print(load_database(\"test_demo.db\"))"
   ]
  },
  {
   "cell_type": "markdown",
   "id": "c8c8ec74",
   "metadata": {},
   "source": [
    "You should see the same list as sample_db_content.\n",
    "The function load_database indeed breaks down the json file into python-readable text."
   ]
  },
  {
   "cell_type": "code",
   "execution_count": null,
   "id": "939230f3",
   "metadata": {},
   "outputs": [],
   "source": [
    "# Check state before registering\n",
    "print(\"Before register_database():\")\n",
    "print(\"REACTION_DATABASES:\", REACTION_DATABASES)\n",
    "print(\"REACTION_REVERSERS:\", REACTION_REVERSERS)\n",
    "\n",
    "# Register two small example databases\n",
    "example_db1 = [\n",
    "    [\"CC>>C.C\", {\"temperature\": \"25 °C\"}],\n",
    "    [\"CCC>>C.C.C\", {\"solvent\": \"THF\"}]\n",
    "]\n",
    "register_database(example_db1, \"demo1\")\n",
    "example_db2 = [[\"[C:1][C:2](=O)[C:3]>>[C:1][C:2][C:3].NN\", {\"temperature\": \"197 °C\", \"solvent\": \"KOH\"}]\n",
    "    \n",
    "]\n",
    "register_database(example_db1, \"demo2\")\n",
    "\n",
    "# Check state after registering\n",
    "print(\"\\nAfter register_database('demo'):\")\n",
    "print(\"REACTION_DATABASES:\")\n",
    "for i, j in REACTION_DATABASES.items():\n",
    "    print(f\"  {i}: {j}\")\n",
    "\n",
    "print(\"\\nREACTION_REVERSERS:\")\n",
    "for k, funcs in REACTION_REVERSERS.items():\n",
    "    print(f\"  {k}: {len(funcs)} reverser(s)\")\n",
    "    for i, f in enumerate(funcs, 1):\n",
    "        print(f\"    ↳ Function {i}: {f.__name__} (callable)\")"
   ]
  },
  {
   "cell_type": "markdown",
   "id": "60c689f4",
   "metadata": {},
   "source": [
    "You can see that the register function changes the states of our two main dictionnaries REACTION_DATABASES and REACTION_REVERSERS, which contains all the necessary rules for retrosynthesis"
   ]
  },
  {
   "cell_type": "code",
   "execution_count": null,
   "id": "482682e5",
   "metadata": {},
   "outputs": [],
   "source": [
    "# Check state before clearing\n",
    "print(\"Before clear_registered_database():\")\n",
    "for i, j in REACTION_DATABASES.items():\n",
    "    print(f\"  {i}: {j}\")\n",
    "\n",
    "print(\"\\nREACTION_REVERSERS:\")\n",
    "for k, funcs in REACTION_REVERSERS.items():\n",
    "    print(f\"  {k}: {len(funcs)} reverser(s)\")\n",
    "    for i, f in enumerate(funcs, 1):\n",
    "        print(f\"    ↳ Function {i}: {f.__name__} (callable)\")\n",
    "\n",
    "# clearing\n",
    "clear_registered_databases()\n",
    "\n",
    "# Check State after clearing\n",
    "print(\"After clear_registered_database():\")\n",
    "print(\"REACTION_DATABASES:\", REACTION_DATABASES)\n",
    "print(\"REACTION_REVERSERS:\", REACTION_REVERSERS)"
   ]
  },
  {
   "cell_type": "markdown",
   "id": "e69d31db",
   "metadata": {},
   "source": [
    "The clear function indeed clears all the registered databases, ready for a fresh start!"
   ]
  },
  {
   "cell_type": "code",
   "execution_count": 38,
   "id": "aa72c957",
   "metadata": {},
   "outputs": [
    {
     "name": "stdout",
     "output_type": "stream",
     "text": [
      "\n",
      "📄 Contents of 'test_db.db':\n",
      "\n",
      "[\n",
      "  [\n",
      "    \"[#6]-[#6]>>[#6].[#6]\",\n",
      "    {\"temperature\": \"25C\", \"solvent\": \"THF\"}\n",
      "  ]\n",
      "]\n",
      "\n",
      "\n",
      " Registered SMARTS in REACTION_DATABASES:\n",
      "  SMARTS: [#6]-[#6]>>[#6].[#6]\n",
      "  Conditions: {'temperature': '25C', 'solvent': 'THF'}\n",
      "\n",
      "🧠 Number of reversers in REACTION_REVERSERS['test_db']: 1\n"
     ]
    }
   ],
   "source": [
    "# Define example reaction for new database test_db\n",
    "db_name = \"test_db\"\n",
    "product = \"CC\"  # ethanol\n",
    "reactants = [\"C\", \"C\"]  # two methyl groups\n",
    "conditions = {\"temperature\": \"25C\", \"solvent\": \"THF\"}\n",
    "\n",
    "# Call the function\n",
    "add_new_smart(db_name, product, reactants, conditions)\n",
    "\n",
    "# Show the content of the database file\n",
    "file_path = f\"{db_name}.db\"\n",
    "print(f\"\\n📄 Contents of '{file_path}':\\n\")\n",
    "with open(file_path, \"r\") as f:\n",
    "    print(f.read())\n",
    "\n",
    "# Show the registered SMARTS and conditions\n",
    "print(\"\\n Registered SMARTS in REACTION_DATABASES:\")\n",
    "for smarts, cond in REACTION_DATABASES[db_name]:\n",
    "    print(f\"  SMARTS: {smarts}\")\n",
    "    print(f\"  Conditions: {cond}\")\n",
    "\n",
    "# Show number of reversers compiled\n",
    "print(f\"\\n🧠 Number of reversers in REACTION_REVERSERS['{db_name}']: {len(REACTION_REVERSERS[db_name])}\")\n"
   ]
  },
  {
   "cell_type": "markdown",
   "id": "91f6f286",
   "metadata": {},
   "source": [
    "You should see a new database appear in the src\\retrochem folder. The add_new_smart function works to add a new database!\n",
    "\n",
    "Let's see how it behaves when we use the function with new reaction rules, but same file name:"
   ]
  },
  {
   "cell_type": "code",
   "execution_count": 39,
   "id": "862869e1",
   "metadata": {},
   "outputs": [
    {
     "name": "stdout",
     "output_type": "stream",
     "text": [
      "\n",
      "📄 Contents of 'test_db.db':\n",
      "\n",
      "[\n",
      "  [\n",
      "    \"[#6]-[#6]>>[#6].[#6]\",\n",
      "    {\"temperature\": \"25C\", \"solvent\": \"THF\"}\n",
      "  ],  [\n",
      "    \"[#6]-[#6]-[#6]>>[#6].[#6]-[#6]\",\n",
      "    {\"temperature\": \"25C\", \"solvent\": \"THF\"}\n",
      "  ]\n",
      "]\n",
      "\n",
      "\n",
      " Registered SMARTS in REACTION_DATABASES:\n",
      "  SMARTS: [#6]-[#6]>>[#6].[#6]\n",
      "  Conditions: {'temperature': '25C', 'solvent': 'THF'}\n",
      "  SMARTS: [#6]-[#6]-[#6]>>[#6].[#6]-[#6]\n",
      "  Conditions: {'temperature': '25C', 'solvent': 'THF'}\n",
      "\n",
      "🧠 Number of reversers in REACTION_REVERSERS['test_db']: 2\n"
     ]
    }
   ],
   "source": [
    "add_new_smart(db_name, \"CCC\", [\"C\",\"CC\"], conditions)\n",
    "\n",
    "# Show the content of the database file\n",
    "print(f\"\\n📄 Contents of '{file_path}':\\n\")\n",
    "with open(file_path, \"r\") as f:\n",
    "    print(f.read())\n",
    "\n",
    "# Show the registered SMARTS and conditions\n",
    "print(\"\\n Registered SMARTS in REACTION_DATABASES:\")\n",
    "for smarts, cond in REACTION_DATABASES[db_name]:\n",
    "    print(f\"  SMARTS: {smarts}\")\n",
    "    print(f\"  Conditions: {cond}\")\n",
    "\n",
    "# Show number of reversers compiled\n",
    "print(f\"\\n🧠 Number of reversers in REACTION_REVERSERS['{db_name}']: {len(REACTION_REVERSERS[db_name])}\")\n",
    "    "
   ]
  },
  {
   "cell_type": "markdown",
   "id": "9aead023",
   "metadata": {},
   "source": [
    "\n",
    "Now let's clear all unecessary test files you just generated before you start using our application:"
   ]
  },
  {
   "cell_type": "code",
   "execution_count": 40,
   "id": "0f095c71",
   "metadata": {},
   "outputs": [
    {
     "name": "stdout",
     "output_type": "stream",
     "text": [
      "🗑️ Deleted: test_db.db\n",
      "✅ No file to delete: test_demo.db\n"
     ]
    }
   ],
   "source": [
    "for name in [\"test_db.db\", \"test_demo.db\"]:\n",
    "    if os.path.exists(name):\n",
    "        os.remove(name)\n",
    "        print(f\"🗑️ Deleted: {name}\")\n",
    "    else:\n",
    "        print(f\"✅ No file to delete: {name}\")"
   ]
  },
  {
   "cell_type": "markdown",
   "id": "df4c0573",
   "metadata": {},
   "source": [
    "RetroChem: Challenges and Features - General Remarks\n",
    "===================================================\n",
    "\n",
    "\n",
    "Motivations\n",
    "-----------\n",
    "\n",
    "Organic chemistry is rich in transformations but poor in integrated, student-friendly tooling.  \n",
    "RetroChem was born to…\n",
    "\n",
    "* **Demystify retrosynthesis** - replace static textbook arrows with clickable, data-driven pathways.  \n",
    "* **Bridge theory and practice** - couple SMARTS rules with concrete laboratory conditions.  \n",
    "* **Encourage exploration** - let learners “peel back” a target molecule step-by-step and see *why* each cut makes chemical sense.  \n",
    "\n",
    "Main Features\n",
    "-------------\n",
    "\n",
    "* **Dual input modes** - type a molecule name *or* sketch it in a Ketcher canvas.  \n",
    "* **One-click retrosynthesis** - generate all first-step disconnections plus reaction conditions.  \n",
    "* **Recursive exploration** - drill down on any reactant to continue the synthetic tree.  \n",
    "* **History navigation** - walk back through previous targets with a single button.  \n",
    "* **Custom database builder** - add new product → reactants SMARTS (with conditions) from inside the browser.\n",
    "\n",
    "Challenges Encountered\n",
    "----------------------\n",
    "\n",
    "1. **Database building** – writing correct forward-reaction SMARTS in our handmade \"epfl_student\" database, then running them in reverse, required meticulous testing. Sourcing, parsing, or hand-entering reliable reaction templates (and their conditions) proved time-consuming.\n",
    "2. **External API reliability** – `name_to_smiles` depends on the NCI CIR service; network hiccups needed error handling.  \n",
    "3. **Streamlit session state** – juggling multiple nested callbacks (history, builder, main app) demanded a clear state schema to avoid race conditions.  \n",
    "4. **Cross-platform line endings & Git** – CRLF/LF conversions occasionally produced noisy diffs and merge conflicts.\n",
    "\n",
    "Tools Used\n",
    "----------\n",
    "\n",
    "* **RDKit** - cheminformatics toolkit for SMILES handling, sub-structure search, and reaction execution.  \n",
    "* **Streamlit** - rapid, reactive web UI.  \n",
    "* **streamlit-ketcher** - embedded molecule drawing widget.  \n",
    "* **Pandas** - tabular display of reaction conditions.  \n",
    "* **Python 3.11** - core language and ecosystem.  \n",
    "* **JSON** - storage format for reaction databases (`*.db` files).  \n",
    "* **Git & GitHub** - version control and collaboration.  \n",
    "\n",
    "\n",
    "Ways of improvement\n",
    "-------------------\n",
    "\n",
    "RetroChem turns a traditionally chalk-and-talk exercise into an interactive, code-backed learning experience.  \n",
    "While the current version already supports multi-step exploration and on-the-fly database editing, several avenues remain:\n",
    "\n",
    "* **Route ranking** - by heuristics (step count, reagent cost, literature frequency).  \n",
    "* **Energetic feasibility** - estimation via semi-empirical calculations.  \n",
    "* **Better stereochemical fidelity** - using enhanced SMARTS and atom-mapping tools.  \n",
    "* **Arrow Pushing** to better visualize the spots of attack.\n",
    "* **Finding the correct spot for mechanism disconnection** - right now, the code only takes the first tuple of reactants from the rdkit function runreactants. Which means it does not show all the possible reactants from a single SMART reaction. Finding the most energetically and kinetically favorable can be a good improvement.\n",
    "\n",
    "\n"
   ]
  }
 ],
 "metadata": {
  "kernelspec": {
   "display_name": "RetroChem",
   "language": "python",
   "name": "python3"
  },
  "language_info": {
   "codemirror_mode": {
    "name": "ipython",
    "version": 3
   },
   "file_extension": ".py",
   "mimetype": "text/x-python",
   "name": "python",
   "nbconvert_exporter": "python",
   "pygments_lexer": "ipython3",
   "version": "3.10.17"
  }
 },
 "nbformat": 4,
 "nbformat_minor": 5
}
