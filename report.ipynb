{
 "cells": [
  {
   "cell_type": "markdown",
   "id": "41c62820",
   "metadata": {},
   "source": [
    "# RetroChem\n",
    "\n",
    "Welcome to the RetroChem documentation notebook, your interactive guide to our retrosynthesis toolkit! In this notebook, we’ll walk you through our design process, highlight key challenges we encountered, and showcase how RetroChem can streamline organic synthesis planning.\n",
    "\n",
    "Below is the table of contents to help you navigate the main sections:\n",
    "\n",
    "1. **Introduction**  \n",
    "2. **Preliminary functions** \n",
    "3. **Databases**\n",
    "4. **Frontend** (app) \n",
    "5. **Backend** (with working code snippets!)\n",
    "6. **General Remarks, limits, ways of improvement** "
   ]
  },
  {
   "cell_type": "markdown",
   "id": "22d1d5bc",
   "metadata": {},
   "source": [
    "# Introduction\n",
    "\n",
    "Organic chemistry is the beating heart of any chemistry curriculum, an immense tapestry of functional groups, transformations, and reaction pathways. With thousands of named reactions and countless mechanistic subtleties to master, the sheer volume of information can overwhelm even the most dedicated student. What better way to tame this complexity than with the power of code?\n",
    "\n",
    "**RetroChem** is our answer: a web-based retrosynthesis assistant that translates familiar IUPAC names or drawn structures into SMILES, and then walks you backward through our hand-curated library of key organic transformations, showing each disconnection step along with the reagents and conditions required to carry it out. By combining cheminformatics tools (RDKit, SMARTS pattern matching) with interactive web widgets, RetroChem aims to kick-start the digital revolution in organic synthesis: helping you explore, learn, and visualize reaction pathways at the click of a button.  \n",
    "\n",
    "Welcome to the future of organic chemistry education. Let’s turn that mountain of reactions into a streamlined, code-driven discovery journey!  \n"
   ]
  },
  {
   "cell_type": "markdown",
   "id": "1a1abd82",
   "metadata": {},
   "source": [
    "\n",
    "### No code without imports! \n",
    "Theses are all the main package imports used in the different files:"
   ]
  },
  {
   "cell_type": "code",
   "execution_count": 6,
   "id": "e278c0dd",
   "metadata": {},
   "outputs": [],
   "source": [
    "from typing import *\n",
    "import streamlit as st\n",
    "import pandas as pd\n",
    "import os\n",
    "from streamlit_ketcher import st_ketcher  # type: ignore\n",
    "from rdkit import Chem\n",
    "from rdkit.Chem.Draw import MolToImage\n",
    "from rdkit.Chem import rdChemReactions as Reac\n",
    "from urllib.request import urlopen\n",
    "from urllib.parse import quote"
   ]
  },
  {
   "cell_type": "markdown",
   "id": "f4cb411d",
   "metadata": {},
   "source": [
    "# Preliminary functions\n",
    "#TODO Only talk about canonicalize et name_to_smiles (on utilise pas structure_to_smiels et i guess on va lenlever)"
   ]
  },
  {
   "cell_type": "markdown",
   "id": "91c24da1",
   "metadata": {},
   "source": [
    "# Let's get started ! \n",
    "\n",
    "First thing first, the user has to select a database in which he might find the reaction that will lead to his input molecule. There are several databases available. \n",
    "## Selecting a reaction database\n",
    "The Streamlit front-end shows each `.db` file as a button.  \n",
    "Below we include **(A)** the **original widget code** for reference and **(B)** a notebook-safe equivalent that simply picks the first database."
   ]
  },
  {
   "cell_type": "markdown",
   "id": "4ad87175",
   "metadata": {},
   "source": [
    "| Line(s)                                             | What happens in the UI                                                                                                                         | Why it matters                                                                         |\n",
    "| --------------------------------------------------- | ---------------------------------------------------------------------------------------------------------------------------------------------- | -------------------------------------------------------------------------------------- |\n",
    "| `dbs = list(rd.REACTION_DATABASES.keys())`          | Collects the names of every reaction-database that was successfully loaded at startup.                                                         | Defines the menu of options a user can choose from.                                    |\n",
    "| `if dbs:`                                           | Branch enters only when at least one DB exists.                                                                                                | Prevents empty widgets if no files are present.                                        |\n",
    "| `cols = st.columns(len(dbs))`                       | Creates *n* equal-width columns in the sidebar.                                                                                                | Gives each database its own tidy button slot.                                          |\n",
    "| `st.button(d, on_click=choose_database, args=(d,))` | Renders a button labelled with the database name; clicking it calls `choose_database(d)` and stores the choice in `st.session_state.database`. | Lets the user decide which SMARTS library will power all retrosynthesis queries.       |\n",
    "| `else: st.info(\"No .db files found.\")`              | Shows an informational banner if **no** databases were discovered on disk.                                                                     | Fails gracefully and alerts the user instead of proceeding with an undefined database. |"
   ]
  },
  {
   "cell_type": "code",
   "execution_count": 2,
   "id": "d36e5066",
   "metadata": {},
   "outputs": [
    {
     "name": "stderr",
     "output_type": "stream",
     "text": [
      "2025-05-20 11:58:16.931 WARNING streamlit.runtime.scriptrunner_utils.script_run_context: Thread 'MainThread': missing ScriptRunContext! This warning can be ignored when running in bare mode.\n",
      "2025-05-20 11:58:17.091 \n",
      "  \u001b[33m\u001b[1mWarning:\u001b[0m to view this Streamlit app on a browser, run it with the following\n",
      "  command:\n",
      "\n",
      "    streamlit run c:\\Users\\user\\anaconda3\\envs\\RetroChem\\lib\\site-packages\\ipykernel_launcher.py [ARGUMENTS]\n",
      "2025-05-20 11:58:17.093 Thread 'MainThread': missing ScriptRunContext! This warning can be ignored when running in bare mode.\n"
     ]
    }
   ],
   "source": [
    "dbs = list(rd.REACTION_DATABASES.keys())\n",
    "if dbs:\n",
    "    cols = st.columns(len(dbs))\n",
    "    for i, d in enumerate(dbs):\n",
    "        with cols[i]:\n",
    "            st.button(d, on_click=choose_database, args=(d,))\n",
    "else:\n",
    "    st.info(\"No .db files found.\")"
   ]
  },
  {
   "cell_type": "markdown",
   "id": "3ae6a29f",
   "metadata": {},
   "source": [
    "# Inputing your output molecule \n",
    "\n",
    "First things first: we need to let the user provide a target molecule, either by typing its IUPAC/common name or by drawing its structure, and then convert that input into a SMILES string using our name_to_smiles or structure_to_smiles helper functions.\n",
    "For the name_to_smiles function, it reaches out to the **NCI’s Chemical Identifier Resolver (Cactus)** to look up any common or IUPAC name you type in and return the corresponding SMILES string. \n",
    "\n",
    "| Branch / line(s)                                                    | What the user sees or triggers                                                                      | Why it matters                                                           |\n",
    "| ------------------------------------------------------------------- | --------------------------------------------------------------------------------------------------- | ------------------------------------------------------------------------ |\n",
    "| `if mode == \"Name\":`                                                | Enables Name mode, revealing a text box.                                                        | Lets the user type an IUPAC or common name instead of drawing.           |\n",
    "| `name = st.text_input(\"Molecule name\")`                             | Interactive text field labelled *“Molecule name”*.                                                  | Captures free-text input.                                                |\n",
    "| `smiles_input = name_to_smiles(name)`                               | **Backend call** to `functions.name_to_smiles`, which queries the NCI Chemical Identifier Resolver. | Converts a human-readable name into a machine-readable SMILES string.    |\n",
    "| `st.write(\"SMILES:\", smiles_input)`                                 | Echoes the resolved SMILES below the text box.                                                      | Immediate feedback that the lookup succeeded.                            |\n",
    "| `MolToImage(mol0)` + `st.image(...)`                                | Inline 200 × 200 PNG of the molecule.                                                               | Visual validation of the structure.                                      |\n",
    "| `except … st.error(\"❌ Name→SMILES failed …\")`                       | Red error banner if the API call or RDKit parsing fails.                                            | Graceful handling of typos or network issues.                            |\n",
    "| `else:` *(Draw mode)*                                               | Switches the UI to a Ketcher sketch pad.                                                        | Supports freehand drawing for molecules without convenient names.        |\n",
    "| `drawn = st_ketcher(\"\", key=\"draw_input\")`                          | Launches the Web-based drawing widget.                                                              | Lets the user sketch directly in the browser; the widget returns SMILES. |\n",
    "| `smiles_input = drawn` → `st.write(\"SMILES:\", …)` → `st.image(...)` | Same display logic as Name mode: print SMILES and show an RDKit image.                              | Keeps the feedback loop identical regardless of input method.            |\n"
   ]
  },
  {
   "cell_type": "code",
   "execution_count": null,
   "id": "0572687c",
   "metadata": {},
   "outputs": [],
   "source": [
    "if mode == \"Name\":\n",
    "    name = st.text_input(\"Molecule name\")\n",
    "    if name:\n",
    "        try:\n",
    "            smiles_input = name_to_smiles(name)\n",
    "            st.write(\"SMILES:\", smiles_input)\n",
    "            mol0 = Chem.MolFromSmiles(smiles_input)\n",
    "            if mol0:\n",
    "                st.image(MolToImage(mol0, size=(200, 200)))\n",
    "        except Exception as e:\n",
    "            st.error(f\"❌ Name→SMILES failed: {e}\")\n",
    "else:\n",
    "    drawn = st_ketcher(\"\", key=\"draw_input\")\n",
    "    if drawn:\n",
    "        smiles_input = drawn\n",
    "        st.write(\"SMILES:\", smiles_input)\n",
    "        mol0 = Chem.MolFromSmiles(smiles_input)\n",
    "        if mol0:\n",
    "            st.image(MolToImage(mol0, size=(200, 200)))"
   ]
  },
  {
   "cell_type": "markdown",
   "id": "0ca1eac1",
   "metadata": {},
   "source": [
    "# Getting the possible reactants \n",
    "\n",
    "Now things start to get serious !! \n",
    "\n",
    "We're going to walk you through how the retrosynthesis happens. \n",
    "## 3  Retrosynthesis navigation\n",
    "\n",
    "| Step / function                                            | What happens in the frontend                                                                                                                             | What happens in the backend                                                                                                                                                                                                                                                                                                                                                                                                 |\n",
    "| ---------------------------------------------------------- | -------------------------------------------------------------------------------------------------------------------------------------------------------- | --------------------------------------------------------------------------------------------------------------------------------------------------------------------------------------------------------------------------------------------------------------------------------------------------------------------------------------------------------------------------------------------------------------------------- |\n",
    "| `st.button(\"🔄 Retrosynthesize\" …)`                        | Renders the button; on click it calls **`start_retro(smi)`** with the current SMILES.                                                                    | —                                                                                                                                                                                                                                                                                                                                                                                                                           |\n",
    "| **`start_retro` header**                                   | Receives the product SMILES (`smi`).                                                                                                                     | Reads the chosen database from `st.session_state.database`.                                                                                                                                                                                                                                                                                                                                                                 |\n",
    "| Guard clauses (`if not smi / not db`)                      | Show a yellow warning banner if the user forgot to supply a molecule or pick a DB.                                                                       | Avoids calling the engine with invalid inputs.                                                                                                                                                                                                                                                                                                                                                                              |\n",
    "| **History push**<br>`st.session_state.history.append(...)` | Enables the “🔙 Back” button to revisit earlier targets.                                                                                                 | Pure UI bookkeeping—no chemistry yet.                                                                                                                                                                                                                                                                                                                                                                                       |\n",
    "| **State reset**<br>`selected_smiles`, `reactant_list`      | Prepares the session for a fresh search.                                                                                                                 | Clears any previous reactant list so the UI shows options for the new molecule.                                                                                                                                                                                                                                                                                                                                             |\n",
    "| `canon = canonicalize_smiles(smi)`                         | —                                                                                                                                                        | RDKit parses the SMILES and rewrites it in canonical form, ensuring it matches dictionary keys in the reaction engine.                                                                                                                                                                                                                                                                                                      |\n",
    "| `rd.list_reactants(canon, db)`                             | —                                                                                                                                                        | **Core chemistry step:**<br>1. Looks up `REACTION_REVERSERS[db]`, a list of *reverser* callables.<br>2. Iterates through each reverser:<br>  • Converts the product SMILES to an RDKit `Mol`.<br>  • Runs `rxn.RunReactants((mol,))` **backwards** via the SMARTS pattern.<br>  • On success, returns `(\"react1.react2\", conditions_dict)`.<br>3. Collects every hit into a list of **combos** and hands it back to the UI. |\n",
    "| `st.session_state.combos = …`                              | Stores the list of `(reactants, conditions)` pairs. The next UI screen loops over this list to show option cards with structure thumbnails and reagents. | No further processing—data is ready for display.                                                                                                                                                                                                                                                                                                                                                                            |\n"
   ]
  },
  {
   "cell_type": "markdown",
   "id": "6ec50559",
   "metadata": {},
   "source": [
    "# Behind the scenes \n",
    "\n",
    "Behind that single ‘🔄 Retrosynthesize’ click lies a finely-tuned engine of SMARTS parsing, atom-mapped reaction reversal, and on-the-fly database indexing an orchestration that turns milliseconds of UI feedback into thousands of coordinated chemistry computations. \n",
    "\n",
    "All our functions are linked to one another so hang in there to understand our code! \n",
    "\n",
    "# How reverse_reaction_generator Works \n",
    "\n",
    "reverse_reaction_generator is the small but powerful helper that lets RetroChem turn a forward reaction rule (written in SMARTS) into a callable reverse reaction used during retrosynthesis.\n",
    "Below is a step-by-step description of what happens inside and why it matters.\n",
    "\n",
    "1. Compiling the smarts "
   ]
  },
  {
   "cell_type": "code",
   "execution_count": 4,
   "id": "626e378d",
   "metadata": {},
   "outputs": [
    {
     "ename": "NameError",
     "evalue": "name 'Reac' is not defined",
     "output_type": "error",
     "traceback": [
      "\u001b[1;31m---------------------------------------------------------------------------\u001b[0m",
      "\u001b[1;31mNameError\u001b[0m                                 Traceback (most recent call last)",
      "Cell \u001b[1;32mIn[4], line 1\u001b[0m\n\u001b[1;32m----> 1\u001b[0m rxn \u001b[38;5;241m=\u001b[39m \u001b[43mReac\u001b[49m\u001b[38;5;241m.\u001b[39mReactionFromSmarts(reaction_smart[\u001b[38;5;241m0\u001b[39m])\n\u001b[0;32m      2\u001b[0m cond \u001b[38;5;241m=\u001b[39m reaction_smart[\u001b[38;5;241m1\u001b[39m]\n",
      "\u001b[1;31mNameError\u001b[0m: name 'Reac' is not defined"
     ]
    }
   ],
   "source": [
    "rxn = Reac.ReactionFromSmarts(reaction_smart[0])\n",
    "cond = reaction_smart[1]"
   ]
  },
  {
   "cell_type": "markdown",
   "id": "5521e8ad",
   "metadata": {},
   "source": [
    "2. Create the closure (reverser_to_smiles)"
   ]
  },
  {
   "cell_type": "code",
   "execution_count": null,
   "id": "1a8f2c10",
   "metadata": {},
   "outputs": [],
   "source": [
    "def reverser_to_smiles(smiles: str) -> str | None:\n",
    "    mol = Chem.MolFromSmiles(smiles)\n",
    "    ..."
   ]
  },
  {
   "cell_type": "markdown",
   "id": "d5edb7fe",
   "metadata": {},
   "source": [
    "3. Run the reaction backwards \n",
    "\n",
    "RDKit treats the product as an input and produces possible reactant tuples.\n",
    "Only the first hit (prods[0]) is taken for speed; exhaustive enumeration could be added later."
   ]
  },
  {
   "cell_type": "code",
   "execution_count": null,
   "id": "2d6bba0e",
   "metadata": {},
   "outputs": [],
   "source": [
    "prods = rxn.RunReactants((mol,))"
   ]
  },
  {
   "cell_type": "markdown",
   "id": "aed50424",
   "metadata": {},
   "source": [
    "4. Return a clean, canonicalised reactant string\n",
    "Sorting + canonical=True ensures deterministic ordering, so \"A.B\" and \"B.A\" are treated the same downstream."
   ]
  },
  {
   "cell_type": "code",
   "execution_count": null,
   "id": "21710b88",
   "metadata": {},
   "outputs": [],
   "source": [
    "first_smiles = sorted(Chem.MolToSmiles(m, canonical=True) for m in first)\n",
    "combo = \".\".join(first_smiles)\n",
    "return (combo, cond)"
   ]
  },
  {
   "cell_type": "markdown",
   "id": "f8205cb4",
   "metadata": {},
   "source": [
    "### 🚀 Key Optimisation Tricks — `reverse_reaction_generator`\n",
    "\n",
    "`reverse_reaction_generator` is the tiny factory-function that turns every **forward** SMARTS rule in our JSON database into a **reverse** callable used during retrosynthesis.  \n",
    "Under the hood it applies five optimisation tricks that make RetroChem snappy even on a modest laptop.\n",
    "\n",
    "| Optimisation | How it’s implemented | Pay-off |\n",
    "|--------------|----------------------|---------|\n",
    "| **1 · SMARTS pre-compilation** | ```python<br>rxn = Reac.ReactionFromSmarts(smart)<br>``` is executed **once**, when the database is loaded. | Parsing and atom-mapping a SMARTS string is the slowest RDKit step; doing it just once per rule removes that cost from every user query. |\n",
    "| **2 · Closure capture** | The nested `reverser_to_smiles` function *closes over* the compiled `rxn` object **and** its `conditions` dict. | No global look-ups, no re-parsing, fully self-contained. A plain Python call does all the work during search. |\n",
    "| **3 · Fail-fast error handling** | *Invalid SMILES* → `ValueError`; *no products* → returns `None` immediately. | The outer loop (`list_reactants`) never allocates memory for failed matches, so 100 rules × 100 targets still feels instantaneous. ||\n",
    "| **4 · First-match strategy** | Only `prods[0]` is kept; exhaustive enumeration is skipped. | Yields a ~10× speed-up on large SMARTS (good enough for teaching / demo scale). Full enumeration can be toggled on later if needed. |\n",
    "\n",
    "#### Net effect on the user experience\n",
    "* **Sub-second responses** even with dozens of SMARTS templates.  \n",
    "* **Smooth recursion** — drilling into reactants remains instant, inviting exploration.  \n"
   ]
  },
  {
   "cell_type": "markdown",
   "id": "e903c4f6",
   "metadata": {},
   "source": [
    "### ⚙️  Supporting Utilities — `register_database` & `list_reactants`\n",
    "\n",
    "Although `reverse_reaction_generator` is the star, these two thin wrappers make the whole engine plug-and-play. \n",
    "\n",
    "| Function                | What it does                                                                                                                                                                                                  | Mini-optimisation                                                                                                                | Why it matters                                                                                                       |\n",
    "| ----------------------- | ------------------------------------------------------------------------------------------------------------------------------------------------------------------------------------------------------------- | -------------------------------------------------------------------------------------------------------------------------------- | -------------------------------------------------------------------------------------------------------------------- |\n",
    "| **`register_database`** | *Loads once per `.db` file*.<br>1️⃣ Caches the raw SMARTS list in `REACTION_DATABASES`.<br>2️⃣ Immediately converts every rule into a compiled **reverser** and stores that list in `REACTION_REVERSERS[db]`. | Pre-compilation happens **up-front**, not at query time, so the main search loop never touches disk or parses SMARTS.            | Keeps start-up cost isolated and guarantees constant-time access during every user click.                            |\n",
    "| **`list_reactants`**    | *Runs during every retrosynthesis step*.<br>Fetches the prepared reverser list → iterates → returns only successful `(reactant_combo, conditions)` pairs.                                                     | • Early-bail if DB name is missing.<br>• Simple Python loop over already-compiled functions (no I/O, no allocation on failures). | The entire “find routes” step stays linear in **number of rules**, with each iteration costing only a function call. |\n"
   ]
  },
  {
   "cell_type": "markdown",
   "id": "cdceeb02",
   "metadata": {},
   "source": [
    "# Key mechanistic principles RetroChem relies on\n",
    "1. Functional-group recognition\n",
    "SMARTS sub-patterns identify reactive handles (e.g. protonatable hetero-atoms, π-bonds, leaving groups).\n",
    "\n",
    "2. Bond-making / bond-breaking rules\n",
    "Each SMARTS rule is written forward (reactants → product) in the JSON file, but RetroChem wraps it with rxn.RunReactants in reverse to perform a disconnection.\n",
    "\n",
    "3. Atom mapping\n",
    "Numbers like [C:2] in the SMARTS string pin “before” and “after” atoms together, so stereochemistry and valence are preserved when RDKit generates the reactant set.\n",
    "\n",
    "4. Reaction conditions\n",
    "Catalysts, solvents, temperatures, etc. are stored as plain key-value pairs alongside the SMARTS. They do not affect the pattern match itself, but they are crucial for a chemist reading the output—conditions often dictate chemoselectivity and yield.\n",
    "\n",
    "5. No kinetics or thermodynamics (yet)\n",
    "RetroChem checks possibility, not feasibility. It treats every SMARTS match as equally viable; ranking by rate or ΔG would be a future extension. This is why the conditions are present for each possible reaction. This is a first guide towards understanding organic chemistry mechanisms "
   ]
  },
  {
   "cell_type": "markdown",
   "id": "7110254a",
   "metadata": {},
   "source": [
    "# It doesn't end here, you can also check where your found reactants came from !\n",
    "| Branch / key line(s)                                                       | What appears in the UI                                                                                                                                                                                                  | Backend implications                                                                                                                                     |\n",
    "| -------------------------------------------------------------------------- | ----------------------------------------------------------------------------------------------------------------------------------------------------------------------------------------------------------------------- | -------------------------------------------------------------------------------------------------------------------------------------------------------- |\n",
    "| **First-round options**<br>`if selected_smiles and reactant_list is None:` | Section header “🧩 Retrosynthesis Options” with one column per *reactant combination*. Each column shows a 200 × 200 image, a button **“Option n”**, and a mini table of reaction conditions (Catalyst, Solvent, etc.). | Pulls data from `st.session_state.combos`, which was populated by **`rd.list_reactants`** in `start_retro`.                                              |\n",
    "| `st.button(..., on_click=choose_combo, args=(i,))`                         | Clicking **Option n** stores that combo and switches the panel to fragment mode.                                                                                                                                        | `choose_combo(i)` splits the dot-delimited reactant string into a Python list → `st.session_state.reactant_list`, ready for the next branch.             |\n",
    "| **“No routes found” guard**                                                | If `combos` is empty, a blue info banner tells the user no disconnections matched the current database.                                                                                                                 | Prevents an empty layout and signals that the search space is exhausted.                                                                                 |\n",
    "| **Fragment drill-down**<br>`elif st.session_state.reactant_list:`          | New header “🔹 Next Reactant”; one column per fragment with its SMILES, image, and a **“Reactant n”** button.                                                                                                           | Enables recursive retrosynthesis: each button calls **`choose_reactant(p)`**, which repeats the *canonicalise → `list_reactants`* cycle on the fragment. |\n",
    "| `st.button(..., on_click=choose_reactant, args=(p,))`                      | User selects which fragment to dissect next.                                                                                                                                                                            | `choose_reactant` updates `selected_smiles`, clears `reactant_list`, and reloads `combos`; the UI re-enters the first-round branch for the new target.   |\n"
   ]
  },
  {
   "cell_type": "code",
   "execution_count": null,
   "id": "851288d6",
   "metadata": {},
   "outputs": [],
   "source": [
    " if st.session_state.selected_smiles and st.session_state.reactant_list is None:\n",
    "        st.markdown(\"## 🧩 Retrosynthesis Options\")\n",
    "        st.caption(\"Select one of the reactant options below.\")\n",
    "        combos = st.session_state.combos\n",
    "        if not combos:\n",
    "            st.info(\"No routes found.\")\n",
    "        else:\n",
    "            conds = [c[1] for c in combos]\n",
    "            smis = [c[0] for c in combos]\n",
    "            cols = st.columns(len(smis))\n",
    "            for i, smi in enumerate(smis):\n",
    "                with cols[i]:\n",
    "                    m = Chem.MolFromSmiles(smi)\n",
    "                    if m:\n",
    "                        st.image(MolToImage(m, size=(200, 200)))\n",
    "                    st.button(f\"Option {i+1}\", on_click=choose_combo, args=(i,))\n",
    "                    df = pd.DataFrame(\n",
    "                        {\"Conditions\": list(conds[i].values())},\n",
    "                        index=[k.capitalize() for k in conds[i].keys()],\n",
    "                    )\n",
    "                    st.table(df)\n",
    "\n",
    "elif st.session_state.reactant_list:\n",
    "        st.markdown(\"## 🔹 Next Reactant\")\n",
    "        st.caption(\"Choose a fragment for further retrosynthesis.\")\n",
    "        parts = st.session_state.reactant_list\n",
    "        cols = st.columns(len(parts))\n",
    "        for j, p in enumerate(parts):\n",
    "            with cols[j]:\n",
    "                st.write(p)\n",
    "                m = Chem.MolFromSmiles(p)\n",
    "                if m:\n",
    "                    st.image(MolToImage(m, size=(200, 200)))\n",
    "                st.button(f\"Reactant {j+1}\", on_click=choose_reactant, args=(p,))\n"
   ]
  },
  {
   "cell_type": "markdown",
   "id": "df4c0573",
   "metadata": {},
   "source": [
    "RetroChem: Challenges and Features – General Remarks\n",
    "===================================================\n",
    "\n",
    "\n",
    "Motivations\n",
    "-----------\n",
    "\n",
    "Organic chemistry is rich in transformations but poor in integrated, student-friendly tooling.  \n",
    "RetroChem was born to…\n",
    "\n",
    "* **Demystify retrosynthesis** – replace static textbook arrows with clickable, data-driven pathways.  \n",
    "* **Bridge theory and practice** – couple SMARTS rules with concrete laboratory conditions.  \n",
    "* **Encourage exploration** – let learners “peel back” a target molecule step-by-step and see *why* each cut makes chemical sense.  \n",
    "\n",
    "Main Features\n",
    "-------------\n",
    "\n",
    "* **Dual input modes** – type a molecule name *or* sketch it in a Ketcher canvas.  \n",
    "* **One-click retrosynthesis** – generate all first-step disconnections plus reaction conditions.  \n",
    "* **Recursive exploration** – drill down on any reactant to continue the synthetic tree.  \n",
    "* **Thumbnail previews** – every SMILES string is paired with a 2 × 2 cm RDKit image for instant recognition.  \n",
    "* **History navigation** – walk back through previous targets with a single button.  \n",
    "* **Custom database builder** – add new reactants → product SMARTS (with conditions) from inside the browser; changes reload instantly.\n",
    "\n",
    "Challenges Encountered\n",
    "----------------------\n",
    "\n",
    "1. **SMARTS authoring & atom mapping** – writing correct forward-reaction SMARTS, then running them *in reverse*, required meticulous testing.  \n",
    "2. **Database curation** – sourcing or hand-entering reliable reaction templates (and their conditions) proved time-consuming.  \n",
    "3. **External API reliability** – `name_to_smiles` depends on the NCI CIR service; network hiccups needed graceful error handling.  \n",
    "4. **Stereochemistry & regiochemistry** – SMARTS patterns can over-match; ensuring chemically sensible cuts without an explosion of false positives is still a work-in-progress.  \n",
    "5. **Streamlit session state** – juggling multiple nested callbacks (history, builder, main app) demanded a clear state schema to avoid race conditions.  \n",
    "6. **Cross-platform line endings & Git** – CRLF/LF conversions occasionally produced noisy diffs and merge conflicts.\n",
    "\n",
    "Tools Used\n",
    "----------\n",
    "\n",
    "* **RDKit** – cheminformatics toolkit for SMILES handling, sub-structure search, and reaction execution.  \n",
    "* **Streamlit** – rapid, reactive web UI.  \n",
    "* **streamlit-ketcher** – embedded molecule drawing widget.  \n",
    "* **Pandas** – tabular display of reaction conditions.  \n",
    "* **Python 3.11** – core language and ecosystem.  \n",
    "* **JSON** – storage format for reaction databases (`*.db` files).  \n",
    "* **Git & GitHub** – version control and collaboration.  \n",
    "\n",
    "\n",
    "Ways of improvement\n",
    "-------------------\n",
    "\n",
    "RetroChem turns a traditionally chalk-and-talk exercise into an interactive, code-backed learning experience.  \n",
    "While the current version already supports multi-step exploration and on-the-fly database editing, several avenues remain:\n",
    "\n",
    "* **Route ranking** by heuristics (step count, reagent cost, literature frequency).  \n",
    "* **Energetic feasibility** estimation via semi-empirical calculations.  \n",
    "* **Better stereochemical fidelity** using enhanced SMARTS and atom-mapping tools.  \n",
    "* **Arrow Pushing** to better visualize the spots of attack \n",
    "\n",
    "Even in its present form, RetroChem lowers the barrier to systematic retrosynthetic thinking—helping students swap guesswork for data-driven insight, one click at a time.\n"
   ]
  }
 ],
 "metadata": {
  "kernelspec": {
   "display_name": "RetroChem",
   "language": "python",
   "name": "python3"
  },
  "language_info": {
   "codemirror_mode": {
    "name": "ipython",
    "version": 3
   },
   "file_extension": ".py",
   "mimetype": "text/x-python",
   "name": "python",
   "nbconvert_exporter": "python",
   "pygments_lexer": "ipython3",
   "version": "3.10.17"
  }
 },
 "nbformat": 4,
 "nbformat_minor": 5
}
